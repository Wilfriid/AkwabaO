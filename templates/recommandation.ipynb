{
 "cells": [
  {
   "cell_type": "code",
   "execution_count": 15,
   "id": "66cc3d75",
   "metadata": {},
   "outputs": [],
   "source": [
    "import pandas as pd"
   ]
  },
  {
   "cell_type": "code",
   "execution_count": 16,
   "id": "1176cd14",
   "metadata": {},
   "outputs": [
    {
     "name": "stdout",
     "output_type": "stream",
     "text": [
      "              Pays  Budget Moy./Jour (EUR)  Duree Moy. (jours) Preferences  \\\n",
      "0    Côte d'Ivoire                      70                  10       Plage   \n",
      "1   Afrique du Sud                      80                  14      Nature   \n",
      "2       Seychelles                     150                   7       Plage   \n",
      "3          Comores                      50                   7       Plage   \n",
      "4           Égypte                      60                  10     Culture   \n",
      "5            Maroc                      70                  10     Culture   \n",
      "6          Turquie                      80                  10     Culture   \n",
      "7          Algérie                      50                   7     Culture   \n",
      "8         Botswana                     100                  10      Nature   \n",
      "9          Sénégal                      60                  10       Plage   \n",
      "10           Ghana                      50                  10     Culture   \n",
      "11        Cap-Vert                      70                  10       Plage   \n",
      "12           Kenya                      90                  14      Nature   \n",
      "13        Zimbabwe                      80                  10      Nature   \n",
      "14         Tunisie                      60                  10       Plage   \n",
      "15      Madagascar                      70                  10      Nature   \n",
      "16          Angola                      80                  10      Nature   \n",
      "\n",
      "   Activites  Hotel 3*  Hotel 4*  Hotel 5*  \n",
      "0    Culture        70       120       200  \n",
      "1   Aventure        80       150       250  \n",
      "2    Détente       200       300       500  \n",
      "3    Plongée        60       100       150  \n",
      "4   Histoire        70       120       200  \n",
      "5    Détente        80       130       220  \n",
      "6   Histoire        90       140       230  \n",
      "7   Histoire        60       110       180  \n",
      "8     Safari       120       200       350  \n",
      "9    Culture        70       120       200  \n",
      "10     Plage        60       110       180  \n",
      "11   Détente        80       130       220  \n",
      "12    Safari       100       170       300  \n",
      "13  Aventure        90       150       250  \n",
      "14  Histoire        70       120       200  \n",
      "15   Plongée        80       130       220  \n",
      "16   Culture        90       150       250  \n"
     ]
    }
   ],
   "source": [
    "# Création du dataset\n",
    "data = {\n",
    "    \"Pays\": [\"Côte d'Ivoire\", \"Afrique du Sud\", \"Seychelles\", \"Comores\", \"Égypte\", \"Maroc\", \"Turquie\", \"Algérie\", \"Botswana\", \"Sénégal\", \"Ghana\", \"Cap-Vert\", \"Kenya\", \"Zimbabwe\", \"Tunisie\", \"Madagascar\", \"Angola\"],\n",
    "    \"Budget Moy./Jour (EUR)\": [70, 80, 150, 50, 60, 70, 80, 50, 100, 60, 50, 70, 90, 80, 60, 70, 80],\n",
    "    \"Duree Moy. (jours)\": [10, 14, 7, 7, 10, 10, 10, 7, 10, 10, 10, 10, 14, 10, 10, 10, 10],\n",
    "    \"Preferences\": [\"Plage\", \"Nature\", \"Plage\", \"Plage\", \"Culture\", \"Culture\", \"Culture\", \"Culture\", \"Nature\", \"Plage\", \"Culture\", \"Plage\", \"Nature\", \"Nature\", \"Plage\", \"Nature\", \"Nature\"],\n",
    "    \"Activites\": [\"Culture\", \"Aventure\", \"Détente\", \"Plongée\", \"Histoire\", \"Détente\", \"Histoire\", \"Histoire\", \"Safari\", \"Culture\", \"Plage\", \"Détente\", \"Safari\", \"Aventure\", \"Histoire\", \"Plongée\", \"Culture\"],\n",
    "    \"Hotel 3*\": [70, 80, 200, 60, 70, 80, 90, 60, 120, 70, 60, 80, 100, 90, 70, 80, 90],\n",
    "    \"Hotel 4*\": [120, 150, 300, 100, 120, 130, 140, 110, 200, 120, 110, 130, 170, 150, 120, 130, 150],\n",
    "    \"Hotel 5*\": [200, 250, 500, 150, 200, 220, 230, 180, 350, 200, 180, 220, 300, 250, 200, 220, 250]\n",
    "}\n",
    "\n",
    "df = pd.DataFrame(data)\n",
    "\n",
    "# Affichage du dataset\n",
    "print(df)\n"
   ]
  },
  {
   "cell_type": "code",
   "execution_count": 17,
   "id": "95f7700a",
   "metadata": {},
   "outputs": [],
   "source": [
    "def get_user_input():\n",
    "    budget_jour = float(input(\"Quel est votre budget par jour (en EUR) ? \"))\n",
    "    duree_sejour = int(input(\"Quelle est la durée de votre séjour (en jours) ? \"))\n",
    "    preferences_voyage = input(\"Quelle est votre préférence de voyage (Plage, Nature, Culture) ? \")\n",
    "    activites_voyage = input(\"Quelles activités préférez-vous (Culture, Aventure, Détente, Plongée, Histoire, Safari) ? \")\n",
    "    hotel_etoiles = input(\"Quel type d'hôtel préférez-vous (Hotel 3*, Hotel 4*, Hotel 5*) ? \")\n",
    "    \n",
    "    return budget_jour, duree_sejour, preferences_voyage, activites_voyage, hotel_etoiles\n"
   ]
  },
  {
   "cell_type": "code",
   "execution_count": 18,
   "id": "afcd6e48",
   "metadata": {},
   "outputs": [],
   "source": [
    "def recommender(df, budget_jour, duree_sejour, preferences_voyage, activites_voyage, hotel_etoiles):\n",
    "    filtered_df = df[\n",
    "        (df[\"Budget Moy./Jour (EUR)\"] <= budget_jour) &\n",
    "        (df[\"Duree Moy. (jours)\"] >= duree_sejour) &\n",
    "        (df[\"Preferences\"] == preferences_voyage) &\n",
    "        (df[\"Activites\"] == activites_voyage)\n",
    "    ]\n",
    "    \n",
    "    recommendations = filtered_df[[\"Pays\", hotel_etoiles, \"Budget Moy./Jour (EUR)\", \"Duree Moy. (jours)\", \"Preferences\", \"Activites\"]]\n",
    "    \n",
    "    if recommendations.empty:\n",
    "        print(\"Aucune destination ne correspond à vos critères.\")\n",
    "    else:\n",
    "        print(\"Destinations recommandées :\")\n",
    "        print(recommendations)\n",
    "\n"
   ]
  },
  {
   "cell_type": "code",
   "execution_count": 24,
   "id": "6024bcde",
   "metadata": {},
   "outputs": [
    {
     "name": "stdout",
     "output_type": "stream",
     "text": [
      "Quel est votre budget par jour (en EUR) ? 80\n",
      "Quelle est la durée de votre séjour (en jours) ? 10\n",
      "Quelle est votre préférence de voyage (Plage, Nature, Culture) ? nature\n",
      "Quelles activités préférez-vous (Culture, Aventure, Détente, Plongée, Histoire, Safari) ? culture\n",
      "Quel type d'hôtel préférez-vous (Hotel 3*, Hotel 4*, Hotel 5*) ? Hotel 4*\n",
      "Aucune destination ne correspond à vos critères.\n"
     ]
    }
   ],
   "source": [
    "# Obtenir les critères du voyageur\n",
    "budget_jour, duree_sejour, preferences_voyage, activites_voyage, hotel_etoiles = get_user_input()\n",
    "\n",
    "# Faire des recommandations\n",
    "recommender(df, budget_jour, duree_sejour, preferences_voyage, activites_voyage, hotel_etoiles)\n"
   ]
  },
  {
   "cell_type": "code",
   "execution_count": null,
   "id": "cf502339",
   "metadata": {},
   "outputs": [],
   "source": [
    "\n"
   ]
  },
  {
   "cell_type": "code",
   "execution_count": null,
   "id": "671f92cd",
   "metadata": {},
   "outputs": [],
   "source": []
  }
 ],
 "metadata": {
  "kernelspec": {
   "display_name": "Python 3 (ipykernel)",
   "language": "python",
   "name": "python3"
  },
  "language_info": {
   "codemirror_mode": {
    "name": "ipython",
    "version": 3
   },
   "file_extension": ".py",
   "mimetype": "text/x-python",
   "name": "python",
   "nbconvert_exporter": "python",
   "pygments_lexer": "ipython3",
   "version": "3.9.13"
  }
 },
 "nbformat": 4,
 "nbformat_minor": 5
}
