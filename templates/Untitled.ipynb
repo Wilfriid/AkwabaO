{
 "cells": [
  {
   "cell_type": "code",
   "execution_count": 1,
   "id": "90414324",
   "metadata": {},
   "outputs": [],
   "source": [
    "import pandas as pd"
   ]
  },
  {
   "cell_type": "code",
   "execution_count": 2,
   "id": "ba5fec9a",
   "metadata": {},
   "outputs": [],
   "source": [
    "\n",
    "\n",
    "# Création du dataframe\n",
    "df = pd.DataFrame({\n",
    "    \"Pays\": [\"Côte d'Ivoire\", \"Afrique du Sud\", \"Seychelles\", \"Comores\", \"Égypte\", \"Maroc\", \"Turquie\", \"Algérie\", \"Botswana\", \"Sénégal\", \"Ghana\", \"Cap-Vert\", \"Kenya\", \"Zimbabwe\", \"Tunisie\", \"Madagascar\", \"Angola\"],\n",
    "    \"Budget Moy./Jour (EUR)\": [70, 80, 150, 50, 60, 70, 80, 50, 100, 60, 50, 70, 90, 80, 60, 70, 80],\n",
    "    \"Duree Moy. (jours)\": [10, 14, 7, 7, 10, 10, 10, 7, 10, 10, 10, 10, 14, 10, 10, 10, 10],\n",
    "    \"Preferences\": [\"Plage\", \"Nature\", \"Plage\", \"Plage\", \"Culture\", \"Culture\", \"Culture\", \"Culture\", \"Nature\", \"Plage\", \"Culture\", \"Plage\", \"Nature\", \"Nature\", \"Plage\", \"Nature\", \"Nature\"],\n",
    "    \"Activites\": [\"Culture\", \"Aventure\", \"Détente\", \"Plongée\", \"Histoire\", \"Détente\", \"Histoire\", \"Histoire\", \"Safari\", \"Culture\", \"Plage\", \"Détente\", \"Safari\", \"Aventure\", \"Histoire\", \"Plongée\", \"Culture\"],\n",
    "    \"Hotel 3*\": [70, 80, 200, 60, 70, 80, 90, 60, 120, 70, 60, 80, 100, 90, 70, 80, 90],\n",
    "    \"Hotel 4*\": [120, 150, 300, 100, 120, 130, 140, 110, 200, 120, 110, 130, 170, 150, 120, 130, 150],\n",
    "    \"Hotel 5*\": [200, 250, 500, 150, 200, 220, 230, 180, 350, 200, 180, 220, 300, 250, 200, 220, 250]\n",
    "})\n",
    "\n",
    "\n"
   ]
  },
  {
   "cell_type": "code",
   "execution_count": 4,
   "id": "03c223ff",
   "metadata": {},
   "outputs": [],
   "source": [
    "# Enregistrer le dataframe en tant que fichier CSV\n",
    "df.to_csv('destinations.csv', index=False)"
   ]
  },
  {
   "cell_type": "code",
   "execution_count": null,
   "id": "a126d8de",
   "metadata": {},
   "outputs": [],
   "source": []
  }
 ],
 "metadata": {
  "kernelspec": {
   "display_name": "Python 3 (ipykernel)",
   "language": "python",
   "name": "python3"
  },
  "language_info": {
   "codemirror_mode": {
    "name": "ipython",
    "version": 3
   },
   "file_extension": ".py",
   "mimetype": "text/x-python",
   "name": "python",
   "nbconvert_exporter": "python",
   "pygments_lexer": "ipython3",
   "version": "3.9.13"
  }
 },
 "nbformat": 4,
 "nbformat_minor": 5
}
